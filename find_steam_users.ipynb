{
 "cells": [
  {
   "cell_type": "code",
   "execution_count": 124,
   "metadata": {},
   "outputs": [],
   "source": [
    "###Dependecies\n",
    "import sqlite3\n",
    "import pandas as pd\n",
    "from io import BytesIO\n",
    "from bs4 import BeautifulSoup\n",
    "import requests\n",
    "from flask import Flask, render_template, redirect, url_for\n",
    "from flask_pymongo import PyMongo\n",
    "from splinter import Browser\n",
    "from webdriver_manager.chrome import ChromeDriverManager\n",
    "import time\n",
    "import numpy as np\n",
    "from config import skey\n",
    "import json\n",
    "import pprint as pp\n",
    "from collections import OrderedDict \n"
   ]
  },
  {
   "cell_type": "code",
   "execution_count": 2,
   "metadata": {},
   "outputs": [
    {
     "name": "stderr",
     "output_type": "stream",
     "text": [
      "[WDM] - Current google-chrome version is 89.0.4389\n",
      "[WDM] - Get LATEST driver version for 89.0.4389\n"
     ]
    },
    {
     "name": "stdout",
     "output_type": "stream",
     "text": [
      " \n"
     ]
    },
    {
     "name": "stderr",
     "output_type": "stream",
     "text": [
      "[WDM] - Driver [C:\\Users\\pwitw\\.wdm\\drivers\\chromedriver\\win32\\89.0.4389.23\\chromedriver.exe] found in cache\n"
     ]
    }
   ],
   "source": [
    "# Retrieve page with the requests module\n",
    "executable_path = {'executable_path': ChromeDriverManager().install()}\n",
    "browser = Browser('chrome', **executable_path, headless=False)"
   ]
  },
  {
   "cell_type": "code",
   "execution_count": 56,
   "metadata": {},
   "outputs": [
    {
     "name": "stdout",
     "output_type": "stream",
     "text": [
      "295\n"
     ]
    }
   ],
   "source": [
    "#shoutout to my friend for supplying our starting user id\n",
    "initial_id = \"76561198048037824\"\n",
    "friend_list_url = f\"http://api.steampowered.com/ISteamUser/GetFriendList/v0001/?key={skey}&steamid={initial_id}&relationship=friend\"\n",
    "first_query = requests.get(friend_list_url).json()\n",
    "\n",
    "#initialize container for our steam ids\n",
    "steamid_collection = []\n",
    "for i in range(len(first_query[\"friendslist\"][\"friends\"])):\n",
    "    steamid_collection.append(first_query[\"friendslist\"][\"friends\"][i].get(\"steamid\"))\n",
    "print(len(steamid_collection))\n"
   ]
  },
  {
   "cell_type": "code",
   "execution_count": 74,
   "metadata": {},
   "outputs": [
    {
     "name": "stdout",
     "output_type": "stream",
     "text": [
      "17354\n",
      "17354\n",
      "76561198002210851\n"
     ]
    }
   ],
   "source": [
    "#now to find friends of friends\n",
    "# for i in range(150):\n",
    "    \n",
    "#     #reset query url for next steam id in collection\n",
    "#     friend_list_url = f\"\"\"http://api.steampowered.com/ISteamUser/GetFriendList/v0001/?key={skey}&steamid={steamid_collection[i]}&relationship=friend\"\"\"\n",
    "    \n",
    "    \n",
    "#     #new query from extracted steam id\n",
    "#     try:\n",
    "#         friend_query = requests.get(friend_list_url).json()\n",
    "#         current_friendslist_length = len(friend_query[\"friendslist\"][\"friends\"])\n",
    "#         #print(current_friendslist_length)\n",
    "#     except:\n",
    "#         \"KeyError\"\n",
    "        \n",
    "#     #2nd loop for collecting current steam_id's friends\n",
    "#     for j in range(current_friendslist_length):\n",
    "#         try:\n",
    "#             steamid_collection.append(friend_query[\"friendslist\"][\"friends\"][j].get(\"steamid\"))\n",
    "#         except:\n",
    "#             \"KeyError\"\n",
    "            \n",
    "            \n",
    "#print(len(steamid_collection))\n",
    "#print(len(set(steamid_collection)))\n",
    "steamid_collection = set(steamid_collection)\n",
    "steamid_collection = list(steamid_collection)\n",
    "#print(steamid_collection[0])"
   ]
  },
  {
   "cell_type": "code",
   "execution_count": 112,
   "metadata": {},
   "outputs": [],
   "source": [
    "#dictionary to store game_titles and correspondingn appids\n",
    "game_ids = {}"
   ]
  },
  {
   "cell_type": "code",
   "execution_count": 115,
   "metadata": {},
   "outputs": [],
   "source": [
    "#function to identify each game from its appid\n",
    "def demystify(appid):\n",
    "    \n",
    "    identifier = str(appid)\n",
    "\n",
    "    #set base url for database that identifies games using appid\n",
    "    base_appid_url = \"https://steamdb.info/app/\"\n",
    "    \n",
    "    #scrape the game title from steamdb.info\n",
    "    browser.visit(base_appid_url + identifier)\n",
    "    html = browser.html\n",
    "    soup = BeautifulSoup(html, 'html.parser')\n",
    "    try:\n",
    "        game_title = soup.find('h1').get_text()\n",
    "    except:\n",
    "        \"KeyError\"    \n",
    "    game_ids.update({identifier : game_title})\n",
    "    \n",
    "    return game_title"
   ]
  },
  {
   "cell_type": "code",
   "execution_count": 116,
   "metadata": {},
   "outputs": [
    {
     "name": "stdout",
     "output_type": "stream",
     "text": [
      "Age of Empires II (2013)\n"
     ]
    }
   ],
   "source": [
    "print(demystify(221380))\n"
   ]
  },
  {
   "cell_type": "code",
   "execution_count": 117,
   "metadata": {},
   "outputs": [
    {
     "name": "stdout",
     "output_type": "stream",
     "text": [
      "{'221380': 'Age of Empires II (2013)'}\n"
     ]
    }
   ],
   "source": [
    "print(game_ids)"
   ]
  },
  {
   "cell_type": "code",
   "execution_count": 89,
   "metadata": {},
   "outputs": [],
   "source": [
    "#function to collect account name and profile url\n",
    "def basic_user_data(steamid):\n",
    "    \n",
    "    #construct container for user profile\n",
    "    user_dictionary = OrderedDict({\"user_steam_id\" : steamid})\n",
    "    \n",
    "    #api url for player summary\n",
    "    player_summary_url = (\n",
    "        f\"http://api.steampowered.com/ISteamUser/GetPlayerSummaries/v0002/?key={skey}&steamids={steamid}\"\n",
    "                         )\n",
    "    \n",
    "    response = requests.get(player_summary_url).json()\n",
    "    #extract data from json file\n",
    "    try:\n",
    "        user_dictionary.update({\"current_account_name\" : response['response']['players'][0].get(\"personaname\")})\n",
    "        user_dictionary.update({\"original_account_name\" : response['response']['players'][0].get(\"realname\")})\n",
    "        user_dictionary.update({\"profile_url\" : response['response']['players'][0].get(\"profileurl\")})\n",
    "    except:\n",
    "        \"KeyError\"\n",
    "        print(f\"error at {steamid}\")\n",
    "    \n",
    "    return user_dictionary"
   ]
  },
  {
   "cell_type": "code",
   "execution_count": 90,
   "metadata": {},
   "outputs": [
    {
     "data": {
      "text/plain": [
       "OrderedDict([('user_steam_id', '76561198002210851'),\n",
       "             ('current_account_name', 'NaturalHacks'),\n",
       "             ('original_account_name', None),\n",
       "             ('profile_url', 'https://steamcommunity.com/id/NaturalHacksNZ/')])"
      ]
     },
     "execution_count": 90,
     "metadata": {},
     "output_type": "execute_result"
    }
   ],
   "source": [
    "user_dictionary = basic_user_data(steamid_collection[0])\n",
    "user_dictionary"
   ]
  },
  {
   "cell_type": "code",
   "execution_count": 120,
   "metadata": {},
   "outputs": [],
   "source": [
    "#function to collect specified users owned games and hours played for each game\n",
    "def advanced_user_data(steamid, user_dictionary):\n",
    "    \n",
    "    #api url for user's game data\n",
    "    owned_games_url = (\n",
    "        f\"http://api.steampowered.com/IPlayerService/GetOwnedGames/v0001/?key={skey}&steamid=76561198048037824&format=json\"\n",
    "                      )\n",
    "    game_list = requests.get(owned_games_url).json()\n",
    "    \n",
    "    #intialize temporary counter for game numbering\n",
    "    play_count = 0   \n",
    "    #intialize temporary dictionary container\n",
    "    user_game_stats = {}\n",
    "    \n",
    "    for i in range(game_list[\"response\"][\"game_count\"]):\n",
    "    \n",
    "        #initialize temporary variables\n",
    "        appid = 0\n",
    "        hours_played = 0\n",
    "        try:\n",
    "            if game_list[\"response\"][\"games\"][i].get(\"playtime_forever\") != 0:\n",
    "                \n",
    "                #pull game id\n",
    "                appid = game_list[\"response\"][\"games\"][i].get(\"appid\")\n",
    "                identifier = str(appid)\n",
    "                #identify the game\n",
    "                if identifier not in game_ids:\n",
    "                    name_of_the_game = demystify(appid)\n",
    "                elif identifier in game_ids:\n",
    "                    name_of_the_game = game_ids[appid]\n",
    "                    \n",
    "                hours_played = game_list[\"response\"][\"games\"][i].get(\"playtime_forever\")\n",
    "                #function to get appid actual name\n",
    "                play_count += 1\n",
    "\n",
    "                user_game_stats.update({name_of_the_game : {\"appid\" : appid,\n",
    "                                                            \"hours played\" : \"{:.2f}\".format(hours_played/60)}\n",
    "                                       })\n",
    "        except:\n",
    "            \"KeyError\"\n",
    "                \n",
    "            \n",
    "    user_dictionary.update({\"total_games_played\" : play_count})\n",
    "    user_dictionary.update({\"user_game_data\" : user_game_stats})\n",
    "    return user_dictionary"
   ]
  },
  {
   "cell_type": "code",
   "execution_count": 103,
   "metadata": {},
   "outputs": [
    {
     "name": "stdout",
     "output_type": "stream",
     "text": [
      "OrderedDict([   ('user_steam_id', '76561198002210851'),\n",
      "                ('current_account_name', 'NaturalHacks'),\n",
      "                ('original_account_name', None),\n",
      "                (   'profile_url',\n",
      "                    'https://steamcommunity.com/id/NaturalHacksNZ/'),\n",
      "                ('total_games_played', 8),\n",
      "                (   'user_game_data',\n",
      "                    {   'game1': {'appid': 10180, 'hours played': '5.50'},\n",
      "                        'game2': {'appid': 10190, 'hours played': '202.57'},\n",
      "                        'game3': {'appid': 42680, 'hours played': '6.93'},\n",
      "                        'game4': {'appid': 42690, 'hours played': '53.73'},\n",
      "                        'game5': {'appid': 205790, 'hours played': '0.52'},\n",
      "                        'game6': {'appid': 221380, 'hours played': '4.47'},\n",
      "                        'game7': {'appid': 550, 'hours played': '0.37'},\n",
      "                        'game8': {'appid': 544730, 'hours played': '0.03'}})])\n"
     ]
    }
   ],
   "source": [
    "finished_user_profile = advanced_user_data(steamid_collection[0], user_dictionary)\n",
    "pp.pprint(finished_user_profile, indent = 4)"
   ]
  },
  {
   "cell_type": "code",
   "execution_count": 105,
   "metadata": {},
   "outputs": [
    {
     "name": "stdout",
     "output_type": "stream",
     "text": [
      "{'appid': 10180, 'hours played': '5.50'}\n"
     ]
    }
   ],
   "source": [
    "print(finished_user_profile['user_game_data']['game1'])"
   ]
  },
  {
   "cell_type": "code",
   "execution_count": 79,
   "metadata": {},
   "outputs": [],
   "source": [
    "#for the mongodb _id using .insert()\n",
    "#str(steamid_collection[i])"
   ]
  },
  {
   "cell_type": "code",
   "execution_count": 121,
   "metadata": {},
   "outputs": [
    {
     "name": "stdout",
     "output_type": "stream",
     "text": [
      "OrderedDict([   ('user_steam_id', '76561198002210851'),\n",
      "                ('current_account_name', 'NaturalHacks'),\n",
      "                ('original_account_name', None),\n",
      "                (   'profile_url',\n",
      "                    'https://steamcommunity.com/id/NaturalHacksNZ/'),\n",
      "                ('total_games_played', 7),\n",
      "                (   'user_game_data',\n",
      "                    {   'Call of Duty: Modern Warfare 2': {   'appid': 10180,\n",
      "                                                              'hours played': '5.50'},\n",
      "                        'Call of Duty: Modern Warfare 2 - Multiplayer': {   'appid': 10190,\n",
      "                                                                            'hours played': '202.57'},\n",
      "                        'Call of Duty: Modern Warfare 3': {   'appid': 42680,\n",
      "                                                              'hours played': '6.93'},\n",
      "                        'Call of Duty: Modern Warfare 3 - Multiplayer': {   'appid': 42690,\n",
      "                                                                            'hours played': '53.73'},\n",
      "                        'Catan Universe': {   'appid': 544730,\n",
      "                                              'hours played': '0.03'},\n",
      "                        'Dota 2 Test': {   'appid': 205790,\n",
      "                                           'hours played': '0.52'},\n",
      "                        'Left 4 Dead 2': {   'appid': 550,\n",
      "                                             'hours played': '0.37'}})])\n"
     ]
    }
   ],
   "source": [
    "user_dictionary = basic_user_data(steamid_collection[0])\n",
    "finished_user_profile = advanced_user_data(steamid_collection[0], user_dictionary)\n",
    "pp.pprint(finished_user_profile, indent=4)"
   ]
  },
  {
   "cell_type": "code",
   "execution_count": null,
   "metadata": {},
   "outputs": [],
   "source": []
  }
 ],
 "metadata": {
  "kernelspec": {
   "display_name": "Python [conda env:PythonData] *",
   "language": "python",
   "name": "conda-env-PythonData-py"
  },
  "language_info": {
   "codemirror_mode": {
    "name": "ipython",
    "version": 3
   },
   "file_extension": ".py",
   "mimetype": "text/x-python",
   "name": "python",
   "nbconvert_exporter": "python",
   "pygments_lexer": "ipython3",
   "version": "3.7.1"
  }
 },
 "nbformat": 4,
 "nbformat_minor": 4
}
