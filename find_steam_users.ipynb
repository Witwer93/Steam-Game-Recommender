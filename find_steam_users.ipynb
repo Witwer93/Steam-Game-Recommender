{
 "cells": [
  {
   "cell_type": "code",
   "execution_count": 4,
   "metadata": {},
   "outputs": [],
   "source": [
    "###Dependecies\n",
    "import sqlite3\n",
    "import pandas as pd\n",
    "from io import BytesIO\n",
    "from bs4 import BeautifulSoup\n",
    "import requests\n",
    "import pymongo\n",
    "from splinter import Browser\n",
    "from webdriver_manager.chrome import ChromeDriverManager\n",
    "import time\n",
    "import numpy as np\n",
    "from config import skey\n",
    "import json"
   ]
  },
  {
   "cell_type": "code",
   "execution_count": 2,
   "metadata": {},
   "outputs": [
    {
     "name": "stderr",
     "output_type": "stream",
     "text": [
      "[WDM] - Current google-chrome version is 89.0.4389\n",
      "[WDM] - Get LATEST driver version for 89.0.4389\n"
     ]
    },
    {
     "name": "stdout",
     "output_type": "stream",
     "text": [
      " \n"
     ]
    },
    {
     "name": "stderr",
     "output_type": "stream",
     "text": [
      "[WDM] - Driver [C:\\Users\\pwitw\\.wdm\\drivers\\chromedriver\\win32\\89.0.4389.23\\chromedriver.exe] found in cache\n"
     ]
    }
   ],
   "source": [
    "# Retrieve page with the requests module\n",
    "executable_path = {'executable_path': ChromeDriverManager().install()}\n",
    "browser = Browser('chrome', **executable_path, headless=False)"
   ]
  },
  {
   "cell_type": "code",
   "execution_count": 56,
   "metadata": {},
   "outputs": [
    {
     "name": "stdout",
     "output_type": "stream",
     "text": [
      "295\n"
     ]
    }
   ],
   "source": [
    "#shoutout to my friend for supplying our starting user id\n",
    "initial_id = \"76561198048037824\"\n",
    "friend_list_url = f\"http://api.steampowered.com/ISteamUser/GetFriendList/v0001/?key={skey}&steamid={initial_id}&relationship=friend\"\n",
    "first_query = requests.get(friend_list_url).json()\n",
    "\n",
    "#initialize container for our steam ids\n",
    "steamid_collection = []\n",
    "for i in range(len(first_query[\"friendslist\"][\"friends\"])):\n",
    "    steamid_collection.append(first_query[\"friendslist\"][\"friends\"][i].get(\"steamid\"))\n",
    "print(len(steamid_collection))\n"
   ]
  },
  {
   "cell_type": "code",
   "execution_count": 67,
   "metadata": {},
   "outputs": [
    {
     "name": "stdout",
     "output_type": "stream",
     "text": [
      "17354\n",
      "17354\n"
     ]
    }
   ],
   "source": [
    "#now to find friends of friends\n",
    "\n",
    "# for i in range(150):\n",
    "    \n",
    "#     #reset query url for next steam id in collection\n",
    "#     friend_list_url = f\"\"\"http://api.steampowered.com/ISteamUser/GetFriendList/v0001/?key={skey}&steamid={steamid_collection[i]}&relationship=friend\"\"\"\n",
    "    \n",
    "    \n",
    "#     #new query from extracted steam id\n",
    "#     try:\n",
    "#         friend_query = requests.get(friend_list_url).json()\n",
    "#         current_friendslist_length = len(friend_query[\"friendslist\"][\"friends\"])\n",
    "#         #print(current_friendslist_length)\n",
    "#     except:\n",
    "#         \"KeyError\"\n",
    "        \n",
    "#     #2nd loop for collecting current steam_id's friends\n",
    "#     for j in range(current_friendslist_length):\n",
    "#         try:\n",
    "#             steamid_collection.append(friend_query[\"friendslist\"][\"friends\"][j].get(\"steamid\"))\n",
    "#         except:\n",
    "#             \"KeyError\"\n",
    "            \n",
    "            \n",
    "print(len(steamid_collection))\n",
    "print(len(set(steamid_collection)))\n",
    "steamid_collection = set(steamid_collection)"
   ]
  },
  {
   "cell_type": "code",
   "execution_count": null,
   "metadata": {},
   "outputs": [],
   "source": []
  },
  {
   "cell_type": "code",
   "execution_count": null,
   "metadata": {},
   "outputs": [],
   "source": []
  },
  {
   "cell_type": "code",
   "execution_count": null,
   "metadata": {},
   "outputs": [],
   "source": []
  }
 ],
 "metadata": {
  "kernelspec": {
   "display_name": "Python [conda env:PythonData] *",
   "language": "python",
   "name": "conda-env-PythonData-py"
  },
  "language_info": {
   "codemirror_mode": {
    "name": "ipython",
    "version": 3
   },
   "file_extension": ".py",
   "mimetype": "text/x-python",
   "name": "python",
   "nbconvert_exporter": "python",
   "pygments_lexer": "ipython3",
   "version": "3.7.1"
  }
 },
 "nbformat": 4,
 "nbformat_minor": 4
}
