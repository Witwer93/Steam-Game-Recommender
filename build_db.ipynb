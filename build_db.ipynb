{
 "cells": [
  {
   "cell_type": "code",
   "execution_count": 1,
   "metadata": {},
   "outputs": [],
   "source": [
    "###Dependecies\n",
    "import sqlite3\n",
    "import pandas as pd\n",
    "from io import BytesIO\n",
    "from bs4 import BeautifulSoup\n",
    "import requests\n",
    "from flask import Flask, render_template, redirect, url_for\n",
    "from flask_pymongo import PyMongo\n",
    "from pymongo import MongoClient\n",
    "from splinter import Browser\n",
    "from webdriver_manager.chrome import ChromeDriverManager\n",
    "import time\n",
    "import numpy as np\n",
    "from config import skey\n",
    "import json\n",
    "import pprint as pp\n",
    "from collections import OrderedDict \n",
    "import pymongo\n",
    "\n",
    "from build_id_collection import build_collection\n",
    "#from get_data import demystify, basic_user_data, advanced_user_data\n",
    "from get_data import basic_user_data, advanced_user_data2\n",
    "from get_data import all_user_data\n",
    "\n",
    "# Retrieve page with the requests module\n",
    "#executable_path = {'executable_path': ChromeDriverManager().install()}\n",
    "#browser = Browser('chrome', **executable_path, headless=False)"
   ]
  },
  {
   "cell_type": "code",
   "execution_count": 2,
   "metadata": {},
   "outputs": [],
   "source": [
    "#list for steamids_that returned no game data\n",
    "from get_data import bad_id_list\n",
    "#dictionary to store game_titles and corresponding appids\n",
    "from get_data import app_ids"
   ]
  },
  {
   "cell_type": "code",
   "execution_count": 2,
   "metadata": {},
   "outputs": [
    {
     "name": "stdout",
     "output_type": "stream",
     "text": [
      "total ids collected: 18686\n"
     ]
    }
   ],
   "source": [
    "#shoutout to my friend for supplying our starting user id\n",
    "initial_id = \"76561198048037824\"\n",
    "steam_id_collection = build_collection(initial_id)\n"
   ]
  },
  {
   "cell_type": "code",
   "execution_count": 4,
   "metadata": {},
   "outputs": [
    {
     "data": {
      "text/plain": [
       "True"
      ]
     },
     "execution_count": 4,
     "metadata": {},
     "output_type": "execute_result"
    }
   ],
   "source": [
    "(len(steam_id_collection)) == (len(set(steam_id_collection)))"
   ]
  },
  {
   "cell_type": "code",
   "execution_count": 3,
   "metadata": {},
   "outputs": [
    {
     "name": "stdout",
     "output_type": "stream",
     "text": [
      "worked at i = 6\n",
      "worked at i = 13\n",
      "worked at i = 19\n",
      "worked at i = 21\n",
      "worked at i = 26\n",
      "worked at i = 42\n",
      "worked at i = 48\n"
     ]
    }
   ],
   "source": [
    "#print(json.dumps(response, indent=4, sort_keys=True))\n",
    "for i in range(50):\n",
    "    test_submit = all_user_data(steam_id_collection[i])\n",
    "    if test_submit != None:\n",
    "        print(f\"worked at i = {i}\")"
   ]
  },
  {
   "cell_type": "code",
   "execution_count": 4,
   "metadata": {},
   "outputs": [
    {
     "name": "stdout",
     "output_type": "stream",
     "text": [
      "OrderedDict([   ('_id', '76561198227462268'),\n",
      "                ('current_account_name', 'Juiced Up Jesus'),\n",
      "                ('original_account_name', None),\n",
      "                ('profile_url', 'https://steamcommunity.com/id/ExAwpGod/'),\n",
      "                ('total_games_owned', 23),\n",
      "                ('total_games_played', 7),\n",
      "                (   'user_game_data',\n",
      "                    [   {   'app_id': '236390',\n",
      "                            'game_title': 'game5',\n",
      "                            'hours_played': '2.30'},\n",
      "                        {   'app_id': '248570',\n",
      "                            'game_title': 'game7',\n",
      "                            'hours_played': '1.10'},\n",
      "                        {   'app_id': '224260',\n",
      "                            'game_title': 'game8',\n",
      "                            'hours_played': '1.47'},\n",
      "                        {   'app_id': '730',\n",
      "                            'game_title': 'game17',\n",
      "                            'hours_played': '1130.10'},\n",
      "                        {   'app_id': '291550',\n",
      "                            'game_title': 'game20',\n",
      "                            'hours_played': '0.20'},\n",
      "                        {   'app_id': '479130',\n",
      "                            'game_title': 'game21',\n",
      "                            'hours_played': '6.20'},\n",
      "                        {   'app_id': '884660',\n",
      "                            'game_title': 'game22',\n",
      "                            'hours_played': '0.02'}])])\n"
     ]
    }
   ],
   "source": [
    "#print(len(app_ids))\n",
    "pp.pprint(all_user_data(steam_id_collection[6]), indent=4)"
   ]
  },
  {
   "cell_type": "code",
   "execution_count": null,
   "metadata": {},
   "outputs": [],
   "source": []
  },
  {
   "cell_type": "code",
   "execution_count": 5,
   "metadata": {},
   "outputs": [],
   "source": [
    "client = MongoClient('localhost:27017')\n",
    "#mydb = myclient[\"mydatabase\"]\n",
    "db = client[\"steam_user_db\"]"
   ]
  },
  {
   "cell_type": "code",
   "execution_count": 6,
   "metadata": {},
   "outputs": [
    {
     "name": "stdout",
     "output_type": "stream",
     "text": [
      "error at 76561198004297013\n",
      "error at 76561197989971254\n",
      "error at 76561197983876577\n",
      "error at 76561198001824377\n",
      "error at 76561198012712596\n",
      "error at 76561198028590937\n"
     ]
    }
   ],
   "source": [
    "success_count = 0\n",
    "for i in range(18686):\n",
    "    db_insertion = all_user_data(steam_id_collection[i])\n",
    "    \n",
    "    if db_insertion != None:\n",
    "        db['steam_users'].insert_one(db_insertion)\n",
    "        success_count += 1\n",
    "    "
   ]
  },
  {
   "cell_type": "code",
   "execution_count": 12,
   "metadata": {},
   "outputs": [
    {
     "name": "stdout",
     "output_type": "stream",
     "text": [
      "1017\n"
     ]
    }
   ],
   "source": [
    "print(success_count)"
   ]
  },
  {
   "cell_type": "code",
   "execution_count": 11,
   "metadata": {},
   "outputs": [],
   "source": [
    "# db.list_collection_names()\n",
    "# db['steam_users'].insert_one(my_profile)"
   ]
  },
  {
   "cell_type": "code",
   "execution_count": 14,
   "metadata": {},
   "outputs": [
    {
     "name": "stderr",
     "output_type": "stream",
     "text": [
      "C:\\Users\\pwitw\\anaconda3\\envs\\PythonData\\lib\\site-packages\\ipykernel_launcher.py:3: DeprecationWarning: count is deprecated. Use Collection.count_documents instead.\n",
      "  This is separate from the ipykernel package so we can avoid doing imports until\n"
     ]
    },
    {
     "data": {
      "text/plain": [
       "137"
      ]
     },
     "execution_count": 14,
     "metadata": {},
     "output_type": "execute_result"
    }
   ],
   "source": [
    "#db.orders.find( { ord_dt: { $gt: new Date('01/01/2012') } } ).count()\n",
    "\n",
    "db['steam users'].find( {\"total_games_played\": 0 } ).count()"
   ]
  },
  {
   "cell_type": "code",
   "execution_count": 15,
   "metadata": {},
   "outputs": [
    {
     "data": {
      "text/plain": [
       "137"
      ]
     },
     "execution_count": 15,
     "metadata": {},
     "output_type": "execute_result"
    }
   ],
   "source": [
    "#for some reason 137 of the friends I queried owned games but had no recorded playtime\n",
    "db['steam users'].count_documents({\"total_games_played\": 0})"
   ]
  },
  {
   "cell_type": "code",
   "execution_count": 37,
   "metadata": {},
   "outputs": [
    {
     "data": {
      "text/plain": [
       "881"
      ]
     },
     "execution_count": 37,
     "metadata": {},
     "output_type": "execute_result"
    }
   ],
   "source": [
    "#db['steam users'].count_documents({'total_games_played': {'appid' : value.unique()}})\n",
    "len(db['steam users'].distinct('user_game_data'))"
   ]
  },
  {
   "cell_type": "code",
   "execution_count": 48,
   "metadata": {},
   "outputs": [
    {
     "data": {
      "text/plain": [
       "0"
      ]
     },
     "execution_count": 48,
     "metadata": {},
     "output_type": "execute_result"
    }
   ],
   "source": [
    "len(db['steam users'].distinct('user_game_data.appid'))"
   ]
  },
  {
   "cell_type": "code",
   "execution_count": 47,
   "metadata": {},
   "outputs": [],
   "source": [
    "unique_game_ids = db['steam users'].distinct('user_game_data')"
   ]
  },
  {
   "cell_type": "code",
   "execution_count": 45,
   "metadata": {},
   "outputs": [
    {
     "name": "stdout",
     "output_type": "stream",
     "text": [
      "{'10': {'game_number': 'game0', 'hours_played': '0.02'}, '4000': {'game_number': 'game18', 'hours_played': '1.15'}, '3590': {'game_number': 'game30', 'hours_played': '12.10'}, '500': {'game_number': 'game35', 'hours_played': '1.93'}, '550': {'game_number': 'game36', 'hours_played': '5.10'}, '96000': {'game_number': 'game45', 'hours_played': '3.58'}, '105600': {'game_number': 'game46', 'hours_played': '79.10'}, '730': {'game_number': 'game67', 'hours_played': '39.38'}, '49520': {'game_number': 'game68', 'hours_played': '0.90'}, '219150': {'game_number': 'game70', 'hours_played': '2.35'}, '99900': {'game_number': 'game83', 'hours_played': '100.27'}, '218130': {'game_number': 'game84', 'hours_played': '0.38'}, '250600': {'game_number': 'game88', 'hours_played': '0.13'}, '219740': {'game_number': 'game98', 'hours_played': '1.30'}, '322330': {'game_number': 'game99', 'hours_played': '65.65'}, '224540': {'game_number': 'game108', 'hours_played': '2.13'}, '239030': {'game_number': 'game110', 'hours_played': '13.95'}, '239820': {'game_number': 'game113', 'hours_played': '11.65'}, '251630': {'game_number': 'game114', 'hours_played': '0.02'}, '252310': {'game_number': 'game116', 'hours_played': '4.53'}, '213670': {'game_number': 'game121', 'hours_played': '20.65'}, '221910': {'game_number': 'game125', 'hours_played': '0.73'}, '264140': {'game_number': 'game132', 'hours_played': '5.78'}, '266010': {'game_number': 'game134', 'hours_played': '8.63'}, '270170': {'game_number': 'game138', 'hours_played': '0.02'}, '270630': {'game_number': 'game139', 'hours_played': '2.05'}, '271820': {'game_number': 'game141', 'hours_played': '1.57'}, '246620': {'game_number': 'game149', 'hours_played': '7.22'}, '293240': {'game_number': 'game168', 'hours_played': '0.02'}, '238460': {'game_number': 'game175', 'hours_played': '5.60'}, '304050': {'game_number': 'game182', 'hours_played': '3.68'}, '304930': {'game_number': 'game183', 'hours_played': '35.98'}, '302380': {'game_number': 'game185', 'hours_played': '0.02'}, '311690': {'game_number': 'game189', 'hours_played': '2.18'}, '327890': {'game_number': 'game205', 'hours_played': '0.10'}, '253390': {'game_number': 'game230', 'hours_played': '1.70'}, '346900': {'game_number': 'game233', 'hours_played': '8.33'}, '349210': {'game_number': 'game241', 'hours_played': '0.02'}, '351570': {'game_number': 'game243', 'hours_played': '0.02'}, '356570': {'game_number': 'game254', 'hours_played': '34.97'}, '363970': {'game_number': 'game284', 'hours_played': '1.40'}, '364640': {'game_number': 'game287', 'hours_played': '0.42'}, '367520': {'game_number': 'game290', 'hours_played': '12.57'}, '265930': {'game_number': 'game291', 'hours_played': '1.62'}, '374570': {'game_number': 'game297', 'hours_played': '0.02'}, '398710': {'game_number': 'game316', 'hours_played': '0.02'}, '402840': {'game_number': 'game320', 'hours_played': '0.72'}, '413850': {'game_number': 'game360', 'hours_played': '0.02'}, '585280': {'game_number': 'game381', 'hours_played': '0.02'}, '416130': {'game_number': 'game387', 'hours_played': '0.03'}, '423880': {'game_number': 'game389', 'hours_played': '0.05'}, '429300': {'game_number': 'game401', 'hours_played': '0.12'}, '429940': {'game_number': 'game405', 'hours_played': '0.05'}, '433340': {'game_number': 'game407', 'hours_played': '15.33'}, '437720': {'game_number': 'game413', 'hours_played': '0.22'}, '442210': {'game_number': 'game420', 'hours_played': '2.27'}, '444090': {'game_number': 'game422', 'hours_played': '9.35'}, '449540': {'game_number': 'game431', 'hours_played': '1.57'}, '452220': {'game_number': 'game434', 'hours_played': '0.02'}, '453480': {'game_number': 'game436', 'hours_played': '2.57'}, '445230': {'game_number': 'game437', 'hours_played': '0.10'}, '459820': {'game_number': 'game439', 'hours_played': '0.02'}, '462680': {'game_number': 'game442', 'hours_played': '1.25'}, '496680': {'game_number': 'game461', 'hours_played': '0.02'}, '393970': {'game_number': 'game471', 'hours_played': '0.02'}, '518210': {'game_number': 'game480', 'hours_played': '0.02'}, '530390': {'game_number': 'game518', 'hours_played': '6.32'}, '561200': {'game_number': 'game606', 'hours_played': '0.02'}, '576470': {'game_number': 'game629', 'hours_played': '0.02'}, '576860': {'game_number': 'game630', 'hours_played': '0.02'}, '587290': {'game_number': 'game639', 'hours_played': '0.20'}, '622040': {'game_number': 'game650', 'hours_played': '0.02'}, '623840': {'game_number': 'game651', 'hours_played': '0.07'}, '639870': {'game_number': 'game693', 'hours_played': '0.02'}, '204300': {'game_number': 'game725', 'hours_played': '0.52'}, '657050': {'game_number': 'game735', 'hours_played': '0.10'}, '665890': {'game_number': 'game750', 'hours_played': '0.02'}, '690930': {'game_number': 'game760', 'hours_played': '0.10'}, '734910': {'game_number': 'game779', 'hours_played': '0.32'}, '742170': {'game_number': 'game790', 'hours_played': '0.22'}, '754810': {'game_number': 'game792', 'hours_played': '0.03'}, '804320': {'game_number': 'game850', 'hours_played': '0.02'}, '203770': {'game_number': 'game869', 'hours_played': '11.10'}, '851000': {'game_number': 'game875', 'hours_played': '1.58'}, '862690': {'game_number': 'game882', 'hours_played': '0.07'}, '885640': {'game_number': 'game897', 'hours_played': '0.07'}, '684680': {'game_number': 'game921', 'hours_played': '0.02'}, '462770': {'game_number': 'game930', 'hours_played': '11.58'}, '1332470': {'game_number': 'game966', 'hours_played': '0.02'}}\n"
     ]
    }
   ],
   "source": [
    "print(unique_game_ids[3])"
   ]
  },
  {
   "cell_type": "code",
   "execution_count": null,
   "metadata": {},
   "outputs": [],
   "source": []
  }
 ],
 "metadata": {
  "kernelspec": {
   "display_name": "Python [conda env:PythonData] *",
   "language": "python",
   "name": "conda-env-PythonData-py"
  },
  "language_info": {
   "codemirror_mode": {
    "name": "ipython",
    "version": 3
   },
   "file_extension": ".py",
   "mimetype": "text/x-python",
   "name": "python",
   "nbconvert_exporter": "python",
   "pygments_lexer": "ipython3",
   "version": "3.7.1"
  }
 },
 "nbformat": 4,
 "nbformat_minor": 4
}
