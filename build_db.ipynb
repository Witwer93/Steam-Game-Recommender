{
 "cells": [
  {
   "cell_type": "code",
   "execution_count": 43,
   "metadata": {},
   "outputs": [
    {
     "name": "stderr",
     "output_type": "stream",
     "text": [
      "[WDM] - Current google-chrome version is 89.0.4389\n",
      "[WDM] - Get LATEST driver version for 89.0.4389\n",
      "[WDM] - Driver [C:\\Users\\pwitw\\.wdm\\drivers\\chromedriver\\win32\\89.0.4389.23\\chromedriver.exe] found in cache\n"
     ]
    },
    {
     "name": "stdout",
     "output_type": "stream",
     "text": [
      " \n"
     ]
    }
   ],
   "source": [
    "###Dependecies\n",
    "import sqlite3\n",
    "import pandas as pd\n",
    "from io import BytesIO\n",
    "from bs4 import BeautifulSoup\n",
    "import requests\n",
    "from flask import Flask, render_template, redirect, url_for\n",
    "from flask_pymongo import PyMongo\n",
    "from splinter import Browser\n",
    "from webdriver_manager.chrome import ChromeDriverManager\n",
    "import time\n",
    "import numpy as np\n",
    "from config import skey\n",
    "import json\n",
    "import pprint as pp\n",
    "from collections import OrderedDict \n",
    "import pymongo\n",
    "\n",
    "from build_id_collection import steamid_collection\n",
    "from get_data import demystify, basic_user_data, advanced_user_data\n",
    "#from get_data import all_user_data\n",
    "\n",
    "# Retrieve page with the requests module\n",
    "executable_path = {'executable_path': ChromeDriverManager().install()}\n",
    "browser = Browser('chrome', **executable_path, headless=False)"
   ]
  },
  {
   "cell_type": "code",
   "execution_count": 44,
   "metadata": {},
   "outputs": [],
   "source": [
    "def all_user_data(steamid):\n",
    "\n",
    "    a_dictionary = basic_user_data(steamid)\n",
    "    final_user_dictionary = advanced_user_data(steamid, a_dictionary)\n",
    "    \n",
    "    return final_user_dictionary"
   ]
  },
  {
   "cell_type": "code",
   "execution_count": 45,
   "metadata": {},
   "outputs": [
    {
     "name": "stdout",
     "output_type": "stream",
     "text": [
      "17634\n"
     ]
    },
    {
     "data": {
      "text/plain": [
       "True"
      ]
     },
     "execution_count": 45,
     "metadata": {},
     "output_type": "execute_result"
    }
   ],
   "source": [
    "print(len(steamid_collection))\n",
    "len(steamid_collection) == len(set(steamid_collection))"
   ]
  },
  {
   "cell_type": "code",
   "execution_count": 50,
   "metadata": {},
   "outputs": [
    {
     "data": {
      "text/plain": [
       "OrderedDict([('user_steam_id', '76561198062025486'),\n",
       "             ('current_account_name', 'puiyi`'),\n",
       "             ('original_account_name', 'Mike'),\n",
       "             ('profile_url', 'https://steamcommunity.com/id/qwertyuiop93/')])"
      ]
     },
     "execution_count": 50,
     "metadata": {},
     "output_type": "execute_result"
    }
   ],
   "source": [
    "dick = basic_user_data(steamid_collection[10])\n",
    "dick"
   ]
  },
  {
   "cell_type": "code",
   "execution_count": 51,
   "metadata": {},
   "outputs": [
    {
     "data": {
      "text/plain": [
       "OrderedDict([('user_steam_id', '76561198062025486'),\n",
       "             ('current_account_name', 'puiyi`'),\n",
       "             ('original_account_name', 'Mike'),\n",
       "             ('profile_url', 'https://steamcommunity.com/id/qwertyuiop93/'),\n",
       "             ('total_games_played', 0),\n",
       "             ('user_game_data', {})])"
      ]
     },
     "execution_count": 51,
     "metadata": {},
     "output_type": "execute_result"
    }
   ],
   "source": [
    "new_dick = advanced_user_data(steamid_collection[10], dick)\n",
    "new_dick"
   ]
  },
  {
   "cell_type": "code",
   "execution_count": 47,
   "metadata": {},
   "outputs": [
    {
     "name": "stdout",
     "output_type": "stream",
     "text": [
      "OrderedDict([('user_steam_id', '76561198311811844'),\n",
      "             ('current_account_name', 'HiGh AF'),\n",
      "             ('original_account_name', 'Jhonty bareto'),\n",
      "             ('profile_url', 'https://steamcommunity.com/id/007taz/'),\n",
      "             ('total_games_played', 0),\n",
      "             ('user_game_data', {})])\n"
     ]
    }
   ],
   "source": [
    "pp.pprint(all_user_data(steamid_collection[50]))"
   ]
  },
  {
   "cell_type": "code",
   "execution_count": 2,
   "metadata": {},
   "outputs": [],
   "source": [
    "# Inserting Records\n",
    "# # Inserting one record\n",
    "# record = {\n",
    "#         \"Rank\": \"1\",\n",
    "#         \"State\": \"Maharastra\",\n",
    "#         \"Nominal GDP ($ Billion)\": \"400\",\n",
    "#         \"Data Year\": \"2019-2020\",\n",
    "#         \"Comparable Country\": \"Philippines\"\n",
    "#         }\n",
    "# collection.insert_one(record)"
   ]
  },
  {
   "cell_type": "code",
   "execution_count": 14,
   "metadata": {},
   "outputs": [
    {
     "name": "stdout",
     "output_type": "stream",
     "text": [
      "Database(MongoClient(host=['localhost:27017'], document_class=dict, tz_aware=False, connect=True), 'test')\n"
     ]
    }
   ],
   "source": [
    "DEFAULT_CONNECTION_URL = \"mongodb://localhost:27017/steam_user_db\"\n",
    "# database_name = \"Indian_States_DB\"\n",
    "\n",
    "# Establish a connection with mongodb\n",
    "client = pymongo.MongoClient(DEFAULT_CONNECTION_URL)\n",
    "\n",
    "## Creating a Database\n",
    "db = client.test\n",
    "print(database)"
   ]
  },
  {
   "cell_type": "code",
   "execution_count": null,
   "metadata": {},
   "outputs": [],
   "source": []
  }
 ],
 "metadata": {
  "kernelspec": {
   "display_name": "Python [conda env:PythonData] *",
   "language": "python",
   "name": "conda-env-PythonData-py"
  },
  "language_info": {
   "codemirror_mode": {
    "name": "ipython",
    "version": 3
   },
   "file_extension": ".py",
   "mimetype": "text/x-python",
   "name": "python",
   "nbconvert_exporter": "python",
   "pygments_lexer": "ipython3",
   "version": "3.7.1"
  }
 },
 "nbformat": 4,
 "nbformat_minor": 4
}
