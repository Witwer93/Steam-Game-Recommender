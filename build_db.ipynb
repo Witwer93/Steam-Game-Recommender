{
 "cells": [
  {
   "cell_type": "code",
   "execution_count": 1,
   "metadata": {},
   "outputs": [],
   "source": [
    "###Dependecies\n",
    "import sqlite3\n",
    "import pandas as pd\n",
    "from io import BytesIO\n",
    "from bs4 import BeautifulSoup\n",
    "import requests\n",
    "from flask import Flask, render_template, redirect, url_for\n",
    "from flask_pymongo import PyMongo\n",
    "from pymongo import MongoClient\n",
    "from splinter import Browser\n",
    "from webdriver_manager.chrome import ChromeDriverManager\n",
    "import time\n",
    "import numpy as np\n",
    "from config import skey\n",
    "import json\n",
    "import pprint as pp\n",
    "from collections import OrderedDict \n",
    "import pymongo\n",
    "\n",
    "from build_id_collection import build_collection\n",
    "#from get_data import demystify, basic_user_data, advanced_user_data\n",
    "from get_data import basic_user_data, advanced_user_data2\n",
    "from get_data import all_user_data\n",
    "\n",
    "# Retrieve page with the requests module\n",
    "#executable_path = {'executable_path': ChromeDriverManager().install()}\n",
    "#browser = Browser('chrome', **executable_path, headless=False)"
   ]
  },
  {
   "cell_type": "code",
   "execution_count": 2,
   "metadata": {},
   "outputs": [],
   "source": [
    "#list for steamids_that returned no game data\n",
    "bad_id_list = []\n",
    "#dictionary to store game_titles and corresponding appids\n",
    "app_ids = []"
   ]
  },
  {
   "cell_type": "code",
   "execution_count": 3,
   "metadata": {},
   "outputs": [
    {
     "name": "stdout",
     "output_type": "stream",
     "text": [
      "total ids collected: 18683\n"
     ]
    }
   ],
   "source": [
    "#shoutout to my friend for supplying our starting user id\n",
    "initial_id = \"76561198048037824\"\n",
    "steam_id_collection = build_collection(initial_id)"
   ]
  },
  {
   "cell_type": "code",
   "execution_count": 4,
   "metadata": {},
   "outputs": [
    {
     "data": {
      "text/plain": [
       "True"
      ]
     },
     "execution_count": 4,
     "metadata": {},
     "output_type": "execute_result"
    }
   ],
   "source": [
    "(len(steam_id_collection)) == (len(set(steam_id_collection)))"
   ]
  },
  {
   "cell_type": "code",
   "execution_count": 5,
   "metadata": {},
   "outputs": [
    {
     "name": "stdout",
     "output_type": "stream",
     "text": [
      "worked at i = 1\n",
      "worked at i = 5\n",
      "worked at i = 22\n",
      "worked at i = 33\n"
     ]
    }
   ],
   "source": [
    "#print(json.dumps(response, indent=4, sort_keys=True))\n",
    "for i in range(50):\n",
    "    test_submit = all_user_data(steam_id_collection[i])\n",
    "    if test_submit != None:\n",
    "        print(f\"worked at i = {i}\")"
   ]
  },
  {
   "cell_type": "code",
   "execution_count": 6,
   "metadata": {},
   "outputs": [
    {
     "name": "stdout",
     "output_type": "stream",
     "text": [
      "[]\n",
      "OrderedDict([   ('_id', '76561198045059228'),\n",
      "                ('current_account_name', 'OMANEYE'),\n",
      "                ('original_account_name', 'Alex'),\n",
      "                (   'profile_url',\n",
      "                    'https://steamcommunity.com/profiles/76561198045059228/'),\n",
      "                ('total_games_owned', 145),\n",
      "                ('total_games_played', 113),\n",
      "                (   'user_game_data',\n",
      "                    {   '1005300': {   'game_number': 'game138',\n",
      "                                       'hours_played': '13.65'},\n",
      "                        '105600': {   'game_number': 'game9',\n",
      "                                      'hours_played': '189.52'},\n",
      "                        '1086940': {   'game_number': 'game140',\n",
      "                                       'hours_played': '53.77'},\n",
      "                        '1172620': {   'game_number': 'game143',\n",
      "                                       'hours_played': '26.20'},\n",
      "                        '1361000': {   'game_number': 'game144',\n",
      "                                       'hours_played': '5.53'},\n",
      "                        '200110': {   'game_number': 'game76',\n",
      "                                      'hours_played': '20.63'},\n",
      "                        '202990': {   'game_number': 'game18',\n",
      "                                      'hours_played': '3.10'},\n",
      "                        '204030': {   'game_number': 'game12',\n",
      "                                      'hours_played': '14.77'},\n",
      "                        '204240': {   'game_number': 'game33',\n",
      "                                      'hours_played': '0.58'},\n",
      "                        '204360': {   'game_number': 'game20',\n",
      "                                      'hours_played': '21.98'},\n",
      "                        '207140': {   'game_number': 'game42',\n",
      "                                      'hours_played': '13.77'},\n",
      "                        '208090': {   'game_number': 'game36',\n",
      "                                      'hours_played': '22.42'},\n",
      "                        '209080': {   'game_number': 'game15',\n",
      "                                      'hours_played': '10.25'},\n",
      "                        '210770': {   'game_number': 'game37',\n",
      "                                      'hours_played': '0.05'},\n",
      "                        '211820': {   'game_number': 'game51',\n",
      "                                      'hours_played': '19.05'},\n",
      "                        '212480': {   'game_number': 'game27',\n",
      "                                      'hours_played': '6.18'},\n",
      "                        '212910': {   'game_number': 'game19',\n",
      "                                      'hours_played': '0.22'},\n",
      "                        '213610': {   'game_number': 'game23',\n",
      "                                      'hours_played': '15.72'},\n",
      "                        '214950': {   'game_number': 'game47',\n",
      "                                      'hours_played': '0.70'},\n",
      "                        '218620': {   'game_number': 'game40',\n",
      "                                      'hours_played': '17.87'},\n",
      "                        '219740': {   'game_number': 'game88',\n",
      "                                      'hours_played': '0.52'},\n",
      "                        '220160': {   'game_number': 'game34',\n",
      "                                      'hours_played': '23.08'},\n",
      "                        '221100': {   'game_number': 'game53',\n",
      "                                      'hours_played': '0.92'},\n",
      "                        '221640': {   'game_number': 'game26',\n",
      "                                      'hours_played': '1.82'},\n",
      "                        '22370': {   'game_number': 'game3',\n",
      "                                     'hours_played': '32.27'},\n",
      "                        '22380': {   'game_number': 'game13',\n",
      "                                     'hours_played': '66.77'},\n",
      "                        '225280': {   'game_number': 'game41',\n",
      "                                      'hours_played': '10.58'},\n",
      "                        '22600': {   'game_number': 'game4',\n",
      "                                     'hours_played': '41.57'},\n",
      "                        '226320': {   'game_number': 'game77',\n",
      "                                      'hours_played': '23.63'},\n",
      "                        '230230': {   'game_number': 'game54',\n",
      "                                      'hours_played': '158.28'},\n",
      "                        '230410': {   'game_number': 'game29',\n",
      "                                      'hours_played': '294.28'},\n",
      "                        '233610': {   'game_number': 'game80',\n",
      "                                      'hours_played': '1751.82'},\n",
      "                        '236110': {   'game_number': 'game86',\n",
      "                                      'hours_played': '2.03'},\n",
      "                        '238240': {   'game_number': 'game60',\n",
      "                                      'hours_played': '1.30'},\n",
      "                        '238460': {   'game_number': 'game70',\n",
      "                                      'hours_played': '26.38'},\n",
      "                        '238960': {   'game_number': 'game30',\n",
      "                                      'hours_played': '0.10'},\n",
      "                        '245490': {   'game_number': 'game69',\n",
      "                                      'hours_played': '12.95'},\n",
      "                        '24740': {   'game_number': 'game2',\n",
      "                                     'hours_played': '1.58'},\n",
      "                        '247730': {   'game_number': 'game48',\n",
      "                                      'hours_played': '0.98'},\n",
      "                        '249990': {   'game_number': 'game46',\n",
      "                                      'hours_played': '13.40'},\n",
      "                        '251170': {   'game_number': 'game43',\n",
      "                                      'hours_played': '179.88'},\n",
      "                        '251570': {   'game_number': 'game58',\n",
      "                                      'hours_played': '325.67'},\n",
      "                        '252490': {   'game_number': 'game44',\n",
      "                                      'hours_played': '311.60'},\n",
      "                        '253030': {   'game_number': 'game109',\n",
      "                                      'hours_played': '1.67'},\n",
      "                        '258970': {   'game_number': 'game72',\n",
      "                                      'hours_played': '5.62'},\n",
      "                        '261640': {   'game_number': 'game78',\n",
      "                                      'hours_played': '247.38'},\n",
      "                        '263440': {   'game_number': 'game50',\n",
      "                                      'hours_played': '1.33'},\n",
      "                        '265630': {   'game_number': 'game32',\n",
      "                                      'hours_played': '2.67'},\n",
      "                        '271590': {   'game_number': 'game93',\n",
      "                                      'hours_played': '24.98'},\n",
      "                        '274940': {   'game_number': 'game79',\n",
      "                                      'hours_played': '26.35'},\n",
      "                        '281990': {   'game_number': 'game59',\n",
      "                                      'hours_played': '8.67'},\n",
      "                        '285900': {   'game_number': 'game61',\n",
      "                                      'hours_played': '2.47'},\n",
      "                        '286160': {   'game_number': 'game64',\n",
      "                                      'hours_played': '34.38'},\n",
      "                        '288470': {   'game_number': 'game62',\n",
      "                                      'hours_played': '15.92'},\n",
      "                        '289070': {   'game_number': 'game63',\n",
      "                                      'hours_played': '754.67'},\n",
      "                        '295110': {   'game_number': 'game65',\n",
      "                                      'hours_played': '7.90'},\n",
      "                        '301520': {   'game_number': 'game71',\n",
      "                                      'hours_played': '49.33'},\n",
      "                        '301970': {   'game_number': 'game81',\n",
      "                                      'hours_played': '2.50'},\n",
      "                        '304930': {   'game_number': 'game74',\n",
      "                                      'hours_played': '3.35'},\n",
      "                        '310510': {   'game_number': 'game75',\n",
      "                                      'hours_played': '19.35'},\n",
      "                        '322330': {   'game_number': 'game89',\n",
      "                                      'hours_played': '22.60'},\n",
      "                        '330830': {   'game_number': 'game82',\n",
      "                                      'hours_played': '26.05'},\n",
      "                        '331670': {   'game_number': 'game84',\n",
      "                                      'hours_played': '53.25'},\n",
      "                        '334230': {   'game_number': 'game85',\n",
      "                                      'hours_played': '5.63'},\n",
      "                        '335240': {   'game_number': 'game87',\n",
      "                                      'hours_played': '0.95'},\n",
      "                        '344760': {   'game_number': 'game94',\n",
      "                                      'hours_played': '36.95'},\n",
      "                        '346110': {   'game_number': 'game95',\n",
      "                                      'hours_played': '29.28'},\n",
      "                        '3480': {   'game_number': 'game1',\n",
      "                                    'hours_played': '4.50'},\n",
      "                        '359320': {   'game_number': 'game139',\n",
      "                                      'hours_played': '16.05'},\n",
      "                        '360830': {   'game_number': 'game101',\n",
      "                                      'hours_played': '6.20'},\n",
      "                        '373420': {   'game_number': 'game55',\n",
      "                                      'hours_played': '40.25'},\n",
      "                        '377160': {   'game_number': 'game102',\n",
      "                                      'hours_played': '273.00'},\n",
      "                        '378860': {   'game_number': 'game103',\n",
      "                                      'hours_played': '1.72'},\n",
      "                        '381210': {   'game_number': 'game104',\n",
      "                                      'hours_played': '5.83'},\n",
      "                        '386360': {   'game_number': 'game105',\n",
      "                                      'hours_played': '34.58'},\n",
      "                        '386940': {   'game_number': 'game107',\n",
      "                                      'hours_played': '1.87'},\n",
      "                        '391540': {   'game_number': 'game108',\n",
      "                                      'hours_played': '0.97'},\n",
      "                        '39210': {   'game_number': 'game49',\n",
      "                                     'hours_played': '11.77'},\n",
      "                        '4000': {   'game_number': 'game0',\n",
      "                                    'hours_played': '10.75'},\n",
      "                        '413150': {   'game_number': 'game110',\n",
      "                                      'hours_played': '0.08'},\n",
      "                        '431240': {   'game_number': 'game111',\n",
      "                                      'hours_played': '19.32'},\n",
      "                        '435150': {   'game_number': 'game112',\n",
      "                                      'hours_played': '115.28'},\n",
      "                        '438740': {   'game_number': 'game122',\n",
      "                                      'hours_played': '12.45'},\n",
      "                        '442070': {   'game_number': 'game113',\n",
      "                                      'hours_played': '15.82'},\n",
      "                        '466240': {   'game_number': 'game116',\n",
      "                                      'hours_played': '7.00'},\n",
      "                        '477160': {   'game_number': 'game114',\n",
      "                                      'hours_played': '2.08'},\n",
      "                        '489830': {   'game_number': 'game120',\n",
      "                                      'hours_played': '54.70'},\n",
      "                        '49520': {   'game_number': 'game21',\n",
      "                                     'hours_played': '920.60'},\n",
      "                        '504370': {   'game_number': 'game127',\n",
      "                                      'hours_played': '4.58'},\n",
      "                        '506500': {   'game_number': 'game115',\n",
      "                                      'hours_played': '1.08'},\n",
      "                        '529180': {   'game_number': 'game117',\n",
      "                                      'hours_played': '139.12'},\n",
      "                        '546560': {   'game_number': 'game119',\n",
      "                                      'hours_played': '5.72'},\n",
      "                        '550': {   'game_number': 'game57',\n",
      "                                   'hours_played': '0.75'},\n",
      "                        '578080': {   'game_number': 'game123',\n",
      "                                      'hours_played': '142.80'},\n",
      "                        '611670': {   'game_number': 'game124',\n",
      "                                      'hours_played': '4.63'},\n",
      "                        '620': {   'game_number': 'game8',\n",
      "                                   'hours_played': '16.80'},\n",
      "                        '620980': {   'game_number': 'game126',\n",
      "                                      'hours_played': '5.17'},\n",
      "                        '638070': {   'game_number': 'game137',\n",
      "                                      'hours_played': '5.62'},\n",
      "                        '65800': {   'game_number': 'game11',\n",
      "                                     'hours_played': '78.40'},\n",
      "                        '70600': {   'game_number': 'game10',\n",
      "                                     'hours_played': '0.38'},\n",
      "                        '72850': {   'game_number': 'game38',\n",
      "                                     'hours_played': '57.78'},\n",
      "                        '729040': {   'game_number': 'game6',\n",
      "                                      'hours_played': '36.87'},\n",
      "                        '739630': {   'game_number': 'game129',\n",
      "                                      'hours_played': '3.67'},\n",
      "                        '765710': {   'game_number': 'game130',\n",
      "                                      'hours_played': '1.37'},\n",
      "                        '774861': {   'game_number': 'game131',\n",
      "                                      'hours_played': '4.58'},\n",
      "                        '813780': {   'game_number': 'game132',\n",
      "                                      'hours_played': '12.13'},\n",
      "                        '813820': {   'game_number': 'game133',\n",
      "                                      'hours_played': '13.60'},\n",
      "                        '8870': {   'game_number': 'game35',\n",
      "                                    'hours_played': '10.83'},\n",
      "                        '892970': {   'game_number': 'game135',\n",
      "                                      'hours_played': '2.58'},\n",
      "                        '8930': {   'game_number': 'game56',\n",
      "                                    'hours_played': '198.58'},\n",
      "                        '8980': {   'game_number': 'game5',\n",
      "                                    'hours_played': '79.18'},\n",
      "                        '945360': {   'game_number': 'game136',\n",
      "                                      'hours_played': '71.80'},\n",
      "                        '976730': {   'game_number': 'game142',\n",
      "                                      'hours_played': '43.17'}})])\n"
     ]
    }
   ],
   "source": [
    "print(app_ids)\n",
    "pp.pprint(all_user_data(steam_id_collection[1]), indent=4)"
   ]
  },
  {
   "cell_type": "code",
   "execution_count": 7,
   "metadata": {},
   "outputs": [],
   "source": [
    "client = MongoClient('localhost:27017')\n",
    "#mydb = myclient[\"mydatabase\"]\n",
    "db = client[\"steam_user_db\"]"
   ]
  },
  {
   "cell_type": "code",
   "execution_count": 10,
   "metadata": {},
   "outputs": [
    {
     "name": "stdout",
     "output_type": "stream",
     "text": [
      "error at 76561198001824377\n",
      "error at 76561197989971254\n",
      "error at 76561198004297013\n",
      "error at 76561197983876577\n",
      "error at 76561198028590937\n",
      "error at 76561198012712596\n"
     ]
    }
   ],
   "source": [
    "success_count = 173\n",
    "for i in range(1000, 18683):\n",
    "    db_insertion = all_user_data(steam_id_collection[i])\n",
    "    \n",
    "    if db_insertion != None:\n",
    "        db['steam users'].insert_one(db_insertion)\n",
    "        success_count += 1\n",
    "    "
   ]
  },
  {
   "cell_type": "code",
   "execution_count": 9,
   "metadata": {},
   "outputs": [
    {
     "name": "stdout",
     "output_type": "stream",
     "text": [
      "173\n"
     ]
    }
   ],
   "source": [
    "print(success_count)"
   ]
  },
  {
   "cell_type": "code",
   "execution_count": 22,
   "metadata": {},
   "outputs": [
    {
     "data": {
      "text/plain": [
       "['steam_users']"
      ]
     },
     "execution_count": 22,
     "metadata": {},
     "output_type": "execute_result"
    }
   ],
   "source": [
    "db.list_collection_names()"
   ]
  },
  {
   "cell_type": "code",
   "execution_count": 24,
   "metadata": {},
   "outputs": [
    {
     "data": {
      "text/plain": [
       "<pymongo.results.InsertOneResult at 0x221554cf248>"
      ]
     },
     "execution_count": 24,
     "metadata": {},
     "output_type": "execute_result"
    }
   ],
   "source": [
    "db['steam_users'].insert_one(my_profile)"
   ]
  },
  {
   "cell_type": "code",
   "execution_count": null,
   "metadata": {},
   "outputs": [],
   "source": []
  }
 ],
 "metadata": {
  "kernelspec": {
   "display_name": "Python [conda env:PythonData] *",
   "language": "python",
   "name": "conda-env-PythonData-py"
  },
  "language_info": {
   "codemirror_mode": {
    "name": "ipython",
    "version": 3
   },
   "file_extension": ".py",
   "mimetype": "text/x-python",
   "name": "python",
   "nbconvert_exporter": "python",
   "pygments_lexer": "ipython3",
   "version": "3.7.1"
  }
 },
 "nbformat": 4,
 "nbformat_minor": 4
}
