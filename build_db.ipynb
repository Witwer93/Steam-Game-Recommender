{
 "cells": [
  {
   "cell_type": "code",
   "execution_count": 1,
   "metadata": {},
   "outputs": [
    {
     "name": "stderr",
     "output_type": "stream",
     "text": [
      "[WDM] - Current google-chrome version is 89.0.4389\n",
      "[WDM] - Get LATEST driver version for 89.0.4389\n",
      "[WDM] - Driver [C:\\Users\\pwitw\\.wdm\\drivers\\chromedriver\\win32\\89.0.4389.23\\chromedriver.exe] found in cache\n"
     ]
    },
    {
     "name": "stdout",
     "output_type": "stream",
     "text": [
      " \n"
     ]
    },
    {
     "name": "stderr",
     "output_type": "stream",
     "text": [
      "[WDM] - Current google-chrome version is 89.0.4389\n",
      "[WDM] - Get LATEST driver version for 89.0.4389\n",
      "[WDM] - Driver [C:\\Users\\pwitw\\.wdm\\drivers\\chromedriver\\win32\\89.0.4389.23\\chromedriver.exe] found in cache\n"
     ]
    },
    {
     "name": "stdout",
     "output_type": "stream",
     "text": [
      " \n"
     ]
    }
   ],
   "source": [
    "###Dependecies\n",
    "import sqlite3\n",
    "import pandas as pd\n",
    "from io import BytesIO\n",
    "from bs4 import BeautifulSoup\n",
    "import requests\n",
    "from flask import Flask, render_template, redirect, url_for\n",
    "from flask_pymongo import PyMongo\n",
    "from pymongo import MongoClient\n",
    "from splinter import Browser\n",
    "from webdriver_manager.chrome import ChromeDriverManager\n",
    "import time\n",
    "import numpy as np\n",
    "from config import skey\n",
    "import json\n",
    "import pprint as pp\n",
    "from collections import OrderedDict \n",
    "import pymongo\n",
    "\n",
    "#from build_id_collection import steamid_collection\n",
    "#from get_data import demystify, basic_user_data, advanced_user_data\n",
    "from get_data import basic_user_data, advanced_user_data2\n",
    "from get_data import all_user_data\n",
    "\n",
    "# Retrieve page with the requests module\n",
    "executable_path = {'executable_path': ChromeDriverManager().install()}\n",
    "browser = Browser('chrome', **executable_path, headless=False)"
   ]
  },
  {
   "cell_type": "code",
   "execution_count": 2,
   "metadata": {},
   "outputs": [],
   "source": [
    "# def all_user_data(steamid):\n",
    "\n",
    "#     a_dictionary = basic_user_data(steamid)\n",
    "#     final_user_dictionary = advanced_user_data(steamid, a_dictionary)\n",
    "    \n",
    "#     return final_user_dictionary"
   ]
  },
  {
   "cell_type": "code",
   "execution_count": 3,
   "metadata": {},
   "outputs": [
    {
     "name": "stdout",
     "output_type": "stream",
     "text": [
      "OrderedDict([   ('_id', 76561198068112781),\n",
      "                ('current_account_name', 'All Up In It'),\n",
      "                ('original_account_name', None),\n",
      "                (   'profile_url',\n",
      "                    'https://steamcommunity.com/profiles/76561198068112781/'),\n",
      "                ('total_games_played', 20),\n",
      "                (   'user_game_data',\n",
      "                    {   'game0': {'appid': 4000, 'hours played': '5.70'},\n",
      "                        'game1': {'appid': 28050, 'hours played': '28.37'},\n",
      "                        'game10': {'appid': 268500, 'hours played': '49.93'},\n",
      "                        'game11': {'appid': 427520, 'hours played': '15.90'},\n",
      "                        'game12': {'appid': 444090, 'hours played': '48.40'},\n",
      "                        'game14': {'appid': 466560, 'hours played': '43.90'},\n",
      "                        'game15': {'appid': 539730, 'hours played': '0.03'},\n",
      "                        'game18': {'appid': 542972, 'hours played': '0.03'},\n",
      "                        'game22': {'appid': 582660, 'hours played': '29.63'},\n",
      "                        'game23': {'appid': 594570, 'hours played': '134.87'},\n",
      "                        'game25': {'appid': 504370, 'hours played': '125.78'},\n",
      "                        'game26': {'appid': 570940, 'hours played': '70.13'},\n",
      "                        'game27': {'appid': 814380, 'hours played': '82.43'},\n",
      "                        'game28': {'appid': 730, 'hours played': '0.72'},\n",
      "                        'game3': {'appid': 6370, 'hours played': '0.63'},\n",
      "                        'game4': {'appid': 238960, 'hours played': '9.40'},\n",
      "                        'game5': {'appid': 245550, 'hours played': '2.37'},\n",
      "                        'game7': {'appid': 211420, 'hours played': '22.40'},\n",
      "                        'game8': {'appid': 335300, 'hours played': '2.82'},\n",
      "                        'game9': {'appid': 374320, 'hours played': '28.68'}})])\n"
     ]
    }
   ],
   "source": [
    "my_profile = all_user_data(76561198068112781)\n",
    "pp.pprint(my_profile,indent=4)"
   ]
  },
  {
   "cell_type": "code",
   "execution_count": 45,
   "metadata": {},
   "outputs": [
    {
     "name": "stdout",
     "output_type": "stream",
     "text": [
      "17634\n"
     ]
    },
    {
     "data": {
      "text/plain": [
       "True"
      ]
     },
     "execution_count": 45,
     "metadata": {},
     "output_type": "execute_result"
    }
   ],
   "source": [
    "print(len(steamid_collection))\n",
    "len(steamid_collection) == len(set(steamid_collection))"
   ]
  },
  {
   "cell_type": "code",
   "execution_count": 7,
   "metadata": {},
   "outputs": [
    {
     "data": {
      "text/plain": [
       "OrderedDict([('_id', 76561198068112781),\n",
       "             ('current_account_name', 'All Up In It'),\n",
       "             ('original_account_name', None),\n",
       "             ('profile_url',\n",
       "              'https://steamcommunity.com/profiles/76561198068112781/')])"
      ]
     },
     "execution_count": 7,
     "metadata": {},
     "output_type": "execute_result"
    }
   ],
   "source": [
    "dick = basic_user_data(76561198068112781)\n",
    "dick"
   ]
  },
  {
   "cell_type": "code",
   "execution_count": 8,
   "metadata": {},
   "outputs": [
    {
     "data": {
      "text/plain": [
       "OrderedDict([('_id', 76561198068112781),\n",
       "             ('current_account_name', 'All Up In It'),\n",
       "             ('original_account_name', None),\n",
       "             ('profile_url',\n",
       "              'https://steamcommunity.com/profiles/76561198068112781/'),\n",
       "             ('total_games_played', 20),\n",
       "             ('user_game_data', {})])"
      ]
     },
     "execution_count": 8,
     "metadata": {},
     "output_type": "execute_result"
    }
   ],
   "source": [
    "new_dick = advanced_user_data(76561198068112781, dick)\n",
    "new_dick"
   ]
  },
  {
   "cell_type": "code",
   "execution_count": 47,
   "metadata": {},
   "outputs": [
    {
     "name": "stdout",
     "output_type": "stream",
     "text": [
      "OrderedDict([('user_steam_id', '76561198311811844'),\n",
      "             ('current_account_name', 'HiGh AF'),\n",
      "             ('original_account_name', 'Jhonty bareto'),\n",
      "             ('profile_url', 'https://steamcommunity.com/id/007taz/'),\n",
      "             ('total_games_played', 0),\n",
      "             ('user_game_data', {})])\n"
     ]
    }
   ],
   "source": [
    "pp.pprint(all_user_data(steamid_collection[50]))"
   ]
  },
  {
   "cell_type": "code",
   "execution_count": 2,
   "metadata": {},
   "outputs": [],
   "source": [
    "# Inserting Records\n",
    "# # Inserting one record\n",
    "# record = {\n",
    "#         \"Rank\": \"1\",\n",
    "#         \"State\": \"Maharastra\",\n",
    "#         \"Nominal GDP ($ Billion)\": \"400\",\n",
    "#         \"Data Year\": \"2019-2020\",\n",
    "#         \"Comparable Country\": \"Philippines\"\n",
    "#         }\n",
    "# collection.insert_one(record)\n",
    "# MONGODB_HOST = 'localhost'\n",
    "# MONGODB_PORT = 27017\n",
    "# DB_NAME = 'Your DB name'\n",
    "# COLLECTION_NAME = 'collectionname'"
   ]
  },
  {
   "cell_type": "code",
   "execution_count": 21,
   "metadata": {},
   "outputs": [],
   "source": [
    "client = MongoClient('localhost:27017')\n",
    "#mydb = myclient[\"mydatabase\"]\n",
    "db = client[\"steam_user_db\"]"
   ]
  },
  {
   "cell_type": "code",
   "execution_count": 22,
   "metadata": {},
   "outputs": [
    {
     "data": {
      "text/plain": [
       "['steam_users']"
      ]
     },
     "execution_count": 22,
     "metadata": {},
     "output_type": "execute_result"
    }
   ],
   "source": [
    "db.list_collection_names()"
   ]
  },
  {
   "cell_type": "code",
   "execution_count": 24,
   "metadata": {},
   "outputs": [
    {
     "data": {
      "text/plain": [
       "<pymongo.results.InsertOneResult at 0x221554cf248>"
      ]
     },
     "execution_count": 24,
     "metadata": {},
     "output_type": "execute_result"
    }
   ],
   "source": [
    "db['steam_users'].insert_one(my_profile)"
   ]
  },
  {
   "cell_type": "code",
   "execution_count": null,
   "metadata": {},
   "outputs": [],
   "source": []
  }
 ],
 "metadata": {
  "kernelspec": {
   "display_name": "Python [conda env:PythonData] *",
   "language": "python",
   "name": "conda-env-PythonData-py"
  },
  "language_info": {
   "codemirror_mode": {
    "name": "ipython",
    "version": 3
   },
   "file_extension": ".py",
   "mimetype": "text/x-python",
   "name": "python",
   "nbconvert_exporter": "python",
   "pygments_lexer": "ipython3",
   "version": "3.7.1"
  }
 },
 "nbformat": 4,
 "nbformat_minor": 4
}
